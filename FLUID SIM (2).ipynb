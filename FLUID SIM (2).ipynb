{
 "cells": [
  {
   "cell_type": "markdown",
   "id": "1be19654-2301-4f12-9847-5d874005b122",
   "metadata": {},
   "source": [
    "# Fluid Flow Simulations\n",
    "#### Author: Parth Nawkar"
   ]
  },
  {
   "cell_type": "markdown",
   "id": "f3de3dc1-a0e3-4604-bdd4-60a96c26b132",
   "metadata": {},
   "source": [
    "# PHASE 1 : BASICS\n",
    "it deals with the visualization of velocity fields, pathlines, streaklines, and streamlines for different scenarios.\n",
    "\n",
    "## PART A \n",
    "In PART A, the code computes and visualizes the velocity field using quiver plots, pathlines starting from x = -2, streaklines of particles starting at x = -2, and streamlines at different time instants. It appears to be analyzing a steady flow around a sphere kept in a wind tunnel.\n",
    "## PART B\n",
    "In PART B, the code defines and plots the velocity field at different time instants, along with pathlines, streaklines, and streamlines for particles starting at x = -2. The flow is found to be unsteady, resembling a vortex or an imploding bubble in water."
   ]
  },
  {
   "cell_type": "markdown",
   "id": "ae925d58-a2c8-4f99-8d36-e0e71a4bc175",
   "metadata": {},
   "source": [
    "# PHASE 2 : FUILD FLOW ELEMENTS & POTENTIAL FLOW THEORY\n",
    "\n",
    "The code deals with potential flow theory and its application to various flow patterns.\n",
    "\n",
    "## PART A:\n",
    "In Part A, the code focuses on the basics of a free stream flow at an angle of attack $\\alpha$. It calculates the velocity components $u$ and $v$ for the given free stream and then derives the potential function $\\phi$ and the stream function $\\psi$. The complex potential $\\Phi$ is also calculated based on $\\phi$ and $\\psi$. The code then plots the velocity field, streamlines, and potential lines of the free stream flow.\n",
    "\n",
    "## PART B:\n",
    "In Part B, the code examines three flow patterns:\n",
    "1. A single source and a single sink:\n",
    "   - It calculates the velocity components $u$ and $v$ for a single source and sink using mathematical functions.\n",
    "   - The code then plots the velocity field and streamlines for both the source and sink separately.\n",
    "\n",
    "2. A doublet:\n",
    "   - It calculates the velocity components $u$ and $v$ for a doublet using mathematical functions.\n",
    "   - The code then plots the velocity field, potential lines, and streamlines of the doublet.\n",
    "\n",
    "3. A point vortex:\n",
    "   - It calculates the velocity components $u$ and $v$ for a point vortex using mathematical functions.\n",
    "   - The code then plots the velocity field, potential lines, and streamlines of the point vortex.\n",
    "\n",
    "## PART C:\n",
    "In Part C, the code deals with combining different flow patterns to create more complex flow configurations.\n",
    "1. Rankine half-body:\n",
    "   - It combines a free stream and a single source to create a Rankine half-body flow.\n",
    "   - The code plots the velocity field, potential lines, and streamlines of the Rankine half-body flow.\n",
    "\n",
    "2. Rankine oval:\n",
    "   - It combines a free stream, a source, and a sink to create a Rankine oval flow.\n",
    "   - The code plots the velocity field, potential lines, and streamlines of the Rankine oval flow.\n",
    "\n",
    "## Pressure and Velocity Field Visualization:\n",
    "The code also visualizes the pressure field and the magnitude of the velocity field for the Rankine oval flow.\n",
    "\n",
    "## Summary:\n",
    "The code demonstrates how to calculate and visualize various potential flow patterns in fluid mechanics using matplotlib. It covers simple flows like a free stream, single source, single sink, and doublet, as well as more complex flows like Rankine half-body and Rankine oval by combining the basic flow patterns."
   ]
  },
  {
   "cell_type": "markdown",
   "id": "bcc22224-d996-48b5-895c-bc79a09ce250",
   "metadata": {},
   "source": [
    "# PHASE 3: AERODYNAMIC FORCES"
   ]
  },
  {
   "cell_type": "markdown",
   "id": "5a75e8ee-f2b9-4927-bf30-6563e7574c3a",
   "metadata": {},
   "source": [
    "## Part A:\n",
    "- The code defines the potential flow around a circular cylinder using complex potential, including a free stream and a doublet at the origin.\n",
    "- It calculates and plots the coefficient of pressure (Cp) and the surface velocity magnitude for the potential flow around the cylinder.\n",
    "\n",
    "## Part B:\n",
    "- The code adds a point vortex at the origin to the potential flow around the cylinder.\n",
    "- It calculates and plots the new velocity components (u, v), Cp, and the surface velocity magnitude with different values of circulation (gamma) given by π/2, π, and 2π.\n",
    "\n",
    "## Part C:\n",
    "- The code plots the streamlines and the potential field for the flow around the cylinder with a point vortex at the origin.\n",
    "\n",
    "## Part D:\n",
    "- The code defines functions to calculate the velocity components (u, v), the magnitude of velocity (V), and the gauge pressure field for the potential flow around the cylinder with the point vortex at the origin.\n",
    "- It plots the gauge pressure field.\n",
    "\n",
    "## Part E:\n",
    "- The code defines functions to calculate the velocity components (u, v), the magnitude of velocity (V), and the coefficient of pressure (Cp) for the potential flow around the cylinder with the point vortex at the origin.\n",
    "- It plots the surface velocity magnitude and Cp for different values of gamma (π/4, π/2, π, and 2π).\n",
    "\n",
    "## Part F:\n",
    "- The code plots the coefficient of pressure (Cp) against theta for different values of gamma (π/4, π/2, π, and 2π).\n",
    "\n",
    "## Part G:\n",
    "- The code calculates the drag and lift forces acting on the cylinder by integrating the Cp function with respect to theta. The drag is obtained from the cosine component of Cp, and the lift is obtained from the sine component of Cp.\n",
    "\n",
    "In summary, this code demonstrates various calculations and visualizations related to potential flow around a circular cylinder with and without a point vortex at the origin. It shows the distribution of pressure coefficients, surface velocity magnitude, streamlines, and potential field, and calculates the drag and lift forces on the cylinder."
   ]
  },
  {
   "cell_type": "markdown",
   "id": "44dd6720-f22e-4b50-bad0-2ad4a0693ebf",
   "metadata": {},
   "source": [
    "# PHASE 4: CYLINDER TO AIRFOIL \n",
    "\n",
    "### We can then use the Joukowsky transformation, a specific application of conformal mapping to link the solution of flow around a cylinder to solution of flow around an airfoil (as a extention of this project)"
   ]
  }
 ],
 "metadata": {
  "kernelspec": {
   "display_name": "Python 3 (ipykernel)",
   "language": "python",
   "name": "python3"
  },
  "language_info": {
   "codemirror_mode": {
    "name": "ipython",
    "version": 3
   },
   "file_extension": ".py",
   "mimetype": "text/x-python",
   "name": "python",
   "nbconvert_exporter": "python",
   "pygments_lexer": "ipython3",
   "version": "3.9.12"
  }
 },
 "nbformat": 4,
 "nbformat_minor": 5
}
